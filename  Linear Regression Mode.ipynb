{
 "cells": [
  {
   "cell_type": "code",
   "execution_count": 1,
   "id": "a480a234",
   "metadata": {},
   "outputs": [],
   "source": [
    "#Apply Linear Regression using suitable library function and \n",
    "#predict the Month-wise temperature."
   ]
  },
  {
   "cell_type": "code",
   "execution_count": 9,
   "id": "073c0e5e",
   "metadata": {},
   "outputs": [
    {
     "name": "stdout",
     "output_type": "stream",
     "text": [
      "Predicted temperature for January: 27.585897435897436\n",
      "Predicted temperature for February: 27.414219114219115\n",
      "Predicted temperature for March: 27.242540792540794\n",
      "Predicted temperature for April: 27.070862470862473\n",
      "Predicted temperature for May: 26.899184149184148\n",
      "Predicted temperature for June: 26.727505827505826\n",
      "Predicted temperature for July: 26.555827505827505\n",
      "Predicted temperature for August: 26.384149184149184\n",
      "Predicted temperature for September: 26.212470862470862\n",
      "Predicted temperature for October: 26.04079254079254\n",
      "Predicted temperature for November: 25.86911421911422\n",
      "Predicted temperature for December: 25.6974358974359\n"
     ]
    }
   ],
   "source": [
    "import numpy as np\n",
    "from sklearn.linear_model import LinearRegression\n",
    "\n",
    "# Load the dataset [sl_no, month, avg_temp, min_temp, max_temp]\n",
    "dataset = np.array([\n",
    "    [1, \"January\", 21.1, 15.3, 27.3],\n",
    "    [2, \"February\", 24.6, 18.8, 31.1],\n",
    "    [3, \"March\", 28.2, 22.9, 34.8],\n",
    "    [4, \"April\", 30.4, 25.8, 36.8],\n",
    "    [5, \"May\", 31.4, 27.4, 37],\n",
    "    [6, \"June\", 29.9, 27.1, 33.8],\n",
    "    [7, \"July\", 27.9, 25.9, 30.8],\n",
    "    [8, \"August\", 27.6, 25.5, 30.5],\n",
    "    [9, \"September\", 27.4, 25.1, 30.6],\n",
    "    [10, \"October\", 26.4, 23.1, 30.3],\n",
    "    [11, \"November\", 23.7, 19.1, 28.6],\n",
    "    [12, \"December\", 21.1, 15.7, 26.8]\n",
    "])\n",
    "\n",
    "# Encode the month column using numerical values\n",
    "months = np.arange(1, 13)\n",
    "temperatures = dataset[:, 2]  # Average temperature\n",
    "\n",
    "# Create a linear regression model\n",
    "model = LinearRegression()\n",
    "\n",
    "# Fit the model to the data\n",
    "model.fit(months.reshape(-1, 1), temperatures)\n",
    "\n",
    "# Predict month-wise temperatures for all 12 months\n",
    "test_months = np.arange(1, 13).reshape(-1, 1)\n",
    "\n",
    "predicted_temperatures = model.predict(test_months)\n",
    "\n",
    "# Print the predicted temperatures for each month\n",
    "month_names = [\"January\", \"February\", \"March\", \"April\", \"May\", \"June\", \"July\", \"August\", \"September\", \"October\", \"November\", \"December\"]\n",
    "for month, temperature in zip(month_names, predicted_temperatures):\n",
    "    print(f\"Predicted temperature for {month}: {temperature}\")\n"
   ]
  },
  {
   "cell_type": "code",
   "execution_count": null,
   "id": "aa6b3e34",
   "metadata": {},
   "outputs": [],
   "source": []
  }
 ],
 "metadata": {
  "kernelspec": {
   "display_name": "Python 3 (ipykernel)",
   "language": "python",
   "name": "python3"
  },
  "language_info": {
   "codemirror_mode": {
    "name": "ipython",
    "version": 3
   },
   "file_extension": ".py",
   "mimetype": "text/x-python",
   "name": "python",
   "nbconvert_exporter": "python",
   "pygments_lexer": "ipython3",
   "version": "3.10.9"
  }
 },
 "nbformat": 4,
 "nbformat_minor": 5
}
